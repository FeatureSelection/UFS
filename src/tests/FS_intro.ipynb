{
 "cells": [
  {
   "cell_type": "markdown",
   "metadata": {},
   "source": [
    "[An brief introduction on how to perform feature selection with scikit-feature](https://jundongl.github.io/scikit-feature/tutorial.html)"
   ]
  },
  {
   "cell_type": "code",
   "execution_count": 1,
   "metadata": {},
   "outputs": [],
   "source": [
    "import scipy.io"
   ]
  },
  {
   "cell_type": "code",
   "execution_count": 2,
   "metadata": {},
   "outputs": [],
   "source": [
    "mat = scipy.io.loadmat(\"COIL20.mat\")"
   ]
  },
  {
   "cell_type": "code",
   "execution_count": 3,
   "metadata": {},
   "outputs": [
    {
     "name": "stdout",
     "output_type": "stream",
     "text": [
      "[[0.01568627 0.01568627 0.01568627 ... 0.01568627 0.01568627 0.01568627]\n",
      " [0.01960784 0.01960784 0.01960784 ... 0.01960784 0.01960784 0.01960784]\n",
      " [0.01568627 0.01568627 0.01568627 ... 0.01568627 0.01568627 0.01568627]\n",
      " ...\n",
      " [0.         0.         0.         ... 0.         0.         0.        ]\n",
      " [0.         0.         0.         ... 0.         0.         0.        ]\n",
      " [0.         0.         0.         ... 0.         0.         0.        ]]\n"
     ]
    }
   ],
   "source": [
    "X=mat['X']\n",
    "print(X)"
   ]
  },
  {
   "cell_type": "code",
   "execution_count": 4,
   "metadata": {},
   "outputs": [
    {
     "name": "stdout",
     "output_type": "stream",
     "text": [
      "[ 1  1  1 ... 20 20 20]\n"
     ]
    }
   ],
   "source": [
    "y = mat['Y'][:, 0] \n",
    "print(y)"
   ]
  },
  {
   "cell_type": "code",
   "execution_count": 5,
   "metadata": {},
   "outputs": [
    {
     "name": "stdout",
     "output_type": "stream",
     "text": [
      "(1440,)\n"
     ]
    }
   ],
   "source": [
    "import numpy as np\n",
    "n_labels = np.shape(y)\n",
    "print(n_labels)"
   ]
  },
  {
   "cell_type": "code",
   "execution_count": 6,
   "metadata": {},
   "outputs": [],
   "source": [
    "from sklearn.model_selection import train_test_split\n",
    "X_train, X_test, y_train, y_test = train_test_split(X, y, test_size=0.2, random_state=40)"
   ]
  },
  {
   "cell_type": "code",
   "execution_count": 7,
   "metadata": {},
   "outputs": [],
   "source": [
    "from skfeature.function.similarity_based import fisher_score"
   ]
  },
  {
   "cell_type": "code",
   "execution_count": 8,
   "metadata": {},
   "outputs": [
    {
     "name": "stdout",
     "output_type": "stream",
     "text": [
      "[13.96904931  0.5376816   0.19923194 ...  3.71944606 14.01720752\n",
      " 14.05075518]\n"
     ]
    }
   ],
   "source": [
    "score = fisher_score.fisher_score(X_train, y_train)\n",
    "print(score)"
   ]
  },
  {
   "cell_type": "code",
   "execution_count": 9,
   "metadata": {},
   "outputs": [],
   "source": [
    "idx = fisher_score.feature_ranking(score)"
   ]
  },
  {
   "cell_type": "code",
   "execution_count": 10,
   "metadata": {},
   "outputs": [
    {
     "name": "stdout",
     "output_type": "stream",
     "text": [
      "[[0.         0.         0.         0.         0.        ]\n",
      " [0.02352941 0.02352941 0.02352941 0.02352941 0.02352941]\n",
      " [0.         0.         0.         0.         0.        ]\n",
      " ...\n",
      " [0.01568627 0.01568627 0.01568627 0.01568627 0.01568627]\n",
      " [0.         0.         0.         0.         0.        ]\n",
      " [0.         0.         0.         0.         0.        ]]\n"
     ]
    }
   ],
   "source": [
    "num_fea = 5\n",
    "selected_features_train = X_train[:, idx[0:num_fea]]\n",
    "selected_features_test = X_test[:, idx[0:num_fea]]\n",
    "print(selected_features_train)"
   ]
  },
  {
   "cell_type": "code",
   "execution_count": 11,
   "metadata": {},
   "outputs": [],
   "source": [
    "\n",
    "from sklearn import svm\n",
    "\n",
    "clf = svm.LinearSVC()\n"
   ]
  },
  {
   "cell_type": "code",
   "execution_count": 12,
   "metadata": {},
   "outputs": [
    {
     "data": {
      "text/plain": [
       "LinearSVC()"
      ]
     },
     "execution_count": 12,
     "metadata": {},
     "output_type": "execute_result"
    }
   ],
   "source": [
    "clf.fit(selected_features_train, y_train)"
   ]
  },
  {
   "cell_type": "code",
   "execution_count": 13,
   "metadata": {},
   "outputs": [
    {
     "name": "stdout",
     "output_type": "stream",
     "text": [
      "[8 8 2 8 8 8 8 8 8 8 8 8 8 8 8 8 8 8 8 8 8 8 8 8 8 8 8 8 8 8 2 8 8 8 8 8 8\n",
      " 8 8 2 8 8 8 8 2 8 2 2 8 8 8 8 2 8 8 8 8 8 8 8 8 8 8 8 8 2 8 8 2 8 8 8 8 8\n",
      " 8 8 2 8 8 8 8 8 8 8 8 8 8 8 8 2 2 8 8 8 8 8 2 8 2 8 8 8 8 2 2 8 8 8 8 8 8\n",
      " 8 2 8 8 8 8 8 2 8 8 8 8 8 2 8 1 8 8 2 8 8 8 8 8 2 2 8 8 8 8 8 8 8 8 8 8 8\n",
      " 8 8 8 8 2 8 8 8 8 8 8 8 8 8 2 8 8 8 8 8 8 8 8 8 8 8 8 8 8 8 8 8 8 8 8 8 8\n",
      " 8 8 8 8 8 8 8 8 8 8 8 8 8 8 8 8 8 8 8 8 8 2 8 8 8 8 8 8 8 8 8 8 8 2 8 8 8\n",
      " 8 8 8 8 8 8 8 8 8 8 8 8 8 8 8 8 8 8 8 8 8 8 8 8 8 8 8 8 8 8 2 8 8 8 2 8 8\n",
      " 8 8 2 8 8 8 8 2 8 8 8 8 8 8 8 2 8 8 8 8 8 8 8 8 8 8 8 8 8]\n"
     ]
    }
   ],
   "source": [
    "y_predict = clf.predict(selected_features_test)\n",
    "print(y_predict)"
   ]
  },
  {
   "cell_type": "code",
   "execution_count": 14,
   "metadata": {},
   "outputs": [
    {
     "name": "stdout",
     "output_type": "stream",
     "text": [
      "0.09375\n"
     ]
    }
   ],
   "source": [
    "from sklearn.metrics import accuracy_score\n",
    "acc = accuracy_score(y_test, y_predict)\n",
    "print(acc)\n"
   ]
  },
  {
   "cell_type": "markdown",
   "metadata": {},
   "source": [
    "## For Unsupervised Learning Problems"
   ]
  },
  {
   "cell_type": "code",
   "execution_count": 15,
   "metadata": {},
   "outputs": [
    {
     "name": "stdout",
     "output_type": "stream",
     "text": [
      "[0.01269462 0.00637613 0.00333286 ... 0.0123851  0.01271441 0.01269681]\n"
     ]
    }
   ],
   "source": [
    "from skfeature.utility import construct_W\n",
    "\n",
    "kwargs_W = {\"metric\":\"euclidean\",\"neighbor_mode\":\"knn\",\"weight_mode\":\"heat_kernel\",\"k\":5,'t':1}\n",
    "\n",
    "W = construct_W.construct_W(X, **kwargs_W)\n",
    "\n",
    "# Compute and output the score of each feature\n",
    "\n",
    "from skfeature.function.similarity_based import lap_score\n",
    "\n",
    "score = lap_score.lap_score(X, W=W)\n",
    "\n",
    "print(score)\n"
   ]
  },
  {
   "cell_type": "code",
   "execution_count": 16,
   "metadata": {},
   "outputs": [],
   "source": [
    "idx = lap_score.feature_ranking(score)"
   ]
  },
  {
   "cell_type": "code",
   "execution_count": 17,
   "metadata": {},
   "outputs": [],
   "source": [
    "num_fea = 5\n",
    "selected_features = X[:, idx[0:num_fea]]"
   ]
  },
  {
   "cell_type": "markdown",
   "metadata": {},
   "source": [
    "#### Performance Evaluation\n",
    "\n",
    "Here, we use normalized mutual infomation score (NMI) and accuracy (ACC) to measure the performance of unsupervised feature selection algorithm Laplacian Score. Usually, the parameter n_clusters is set to be the same as the number of classes in the ground truth."
   ]
  },
  {
   "cell_type": "code",
   "execution_count": 18,
   "metadata": {},
   "outputs": [],
   "source": [
    "from skfeature.utility import unsupervised_evaluation\n",
    "\n",
    "import numpy as np\n",
    "\n",
    "num_cluster = len(np.unique(y))\n",
    "\n"
   ]
  },
  {
   "cell_type": "code",
   "execution_count": 19,
   "metadata": {},
   "outputs": [
    {
     "name": "stdout",
     "output_type": "stream",
     "text": [
      "20\n",
      "0.3760158105068663\n",
      "0.19444444444444445\n"
     ]
    }
   ],
   "source": [
    "print(num_cluster)\n",
    "\n",
    "nmi,acc=unsupervised_evaluation.evaluation(X_selected=selected_features,n_clusters=num_cluster,y=y)\n",
    "\n",
    "print(nmi)\n",
    "\n",
    "print(acc)"
   ]
  }
 ],
 "metadata": {
  "kernelspec": {
   "display_name": "Python 3",
   "language": "python",
   "name": "python3"
  },
  "language_info": {
   "codemirror_mode": {
    "name": "ipython",
    "version": 3
   },
   "file_extension": ".py",
   "mimetype": "text/x-python",
   "name": "python",
   "nbconvert_exporter": "python",
   "pygments_lexer": "ipython3",
   "version": "3.8.6"
  }
 },
 "nbformat": 4,
 "nbformat_minor": 4
}
